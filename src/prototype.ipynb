{
 "cells": [
  {
   "cell_type": "code",
   "execution_count": 1,
   "metadata": {},
   "outputs": [],
   "source": [
    "from charts import (\n",
    "    LineChart,\n",
    "    BarChart,\n",
    "    Histogram,\n",
    "    ScatterChart,\n",
    "    PieChart,\n",
    "    BoxPlot,\n",
    "    ViolinPlot,\n",
    "    Heatmap,\n",
    "    AreaChart,\n",
    "    FunnelChart,\n",
    "    Chart,\n",
    "    BaseChart,\n",
    ")\n",
    "import pandas as pd\n",
    "from components import TextComponent, ChartComponent"
   ]
  },
  {
   "cell_type": "code",
   "execution_count": 2,
   "metadata": {},
   "outputs": [
    {
     "name": "stderr",
     "output_type": "stream",
     "text": [
      "2025-04-02 22:18:44.949 WARNING streamlit.elements.write: Invalid arguments were passed to \"st.write\" function. Support for passing such unknown keywords arguments will be dropped in future. Invalid arguments were: {'key': '2e9e7490323c4567877e79e26e5cceed'}\n",
      "2025-04-02 22:18:44.950 WARNING streamlit.runtime.scriptrunner_utils.script_run_context: Thread 'MainThread': missing ScriptRunContext! This warning can be ignored when running in bare mode.\n",
      "2025-04-02 22:18:45.027 \n",
      "  \u001b[33m\u001b[1mWarning:\u001b[0m to view this Streamlit app on a browser, run it with the following\n",
      "  command:\n",
      "\n",
      "    streamlit run /home/michal/DEV/Sedes/.venv/lib/python3.12/site-packages/ipykernel_launcher.py [ARGUMENTS]\n",
      "2025-04-02 22:18:45.027 Thread 'MainThread': missing ScriptRunContext! This warning can be ignored when running in bare mode.\n",
      "2025-04-02 22:18:45.028 Thread 'MainThread': missing ScriptRunContext! This warning can be ignored when running in bare mode.\n",
      "2025-04-02 22:18:45.028 Thread 'MainThread': missing ScriptRunContext! This warning can be ignored when running in bare mode.\n"
     ]
    }
   ],
   "source": [
    "comp1 = TextComponent(text=\"testujemy TEXT\")\n",
    "comp1.draw()\n",
    "\n",
    "# Load data\n",
    "df = pd.read_csv(\"iris.csv\")\n",
    "# st.dataframe(df)\n",
    "\n",
    "hist = Histogram(\n",
    "    df,\n",
    "    name=\"test\",\n",
    "    x_column=\"sepal length\",\n",
    "    color=\"class\",\n",
    "    bins=10,\n",
    "    title=\"test\",\n",
    ")\n"
   ]
  },
  {
   "cell_type": "code",
   "execution_count": 3,
   "metadata": {},
   "outputs": [
    {
     "data": {
      "text/plain": [
       "{'id': '3bd8679fc5f0439fab8032c2ebdb7c7b',\n",
       " 'chart_type': 'histogram',\n",
       " 'name': 'test',\n",
       " 'x_column': 'sepal length',\n",
       " 'y_column': '',\n",
       " 'title': 'test',\n",
       " 'color': 'class',\n",
       " 'bins': 10}"
      ]
     },
     "execution_count": 3,
     "metadata": {},
     "output_type": "execute_result"
    }
   ],
   "source": [
    "hist.to_dict()"
   ]
  },
  {
   "cell_type": "code",
   "execution_count": 4,
   "metadata": {},
   "outputs": [
    {
     "name": "stdout",
     "output_type": "stream",
     "text": [
      "Histogram(df=     sepal length  sepal width  petal length  petal width           class\n",
      "0             5.1          3.5           1.4          0.2     Iris-setosa\n",
      "1             4.9          3.0           1.4          0.2     Iris-setosa\n",
      "2             4.7          3.2           1.3          0.2     Iris-setosa\n",
      "3             4.6          3.1           1.5          0.2     Iris-setosa\n",
      "4             5.0          3.6           1.4          0.2     Iris-setosa\n",
      "..            ...          ...           ...          ...             ...\n",
      "145           6.7          3.0           5.2          2.3  Iris-virginica\n",
      "146           6.3          2.5           5.0          1.9  Iris-virginica\n",
      "147           6.5          3.0           5.2          2.0  Iris-virginica\n",
      "148           6.2          3.4           5.4          2.3  Iris-virginica\n",
      "149           5.9          3.0           5.1          1.8  Iris-virginica\n",
      "\n",
      "[150 rows x 5 columns], id='43e520c049334b52a5c4aa47f2165de7', chart_type='histogram', name='test', x_column='sepal length', y_column='', title='test', color='class', bins=10)\n"
     ]
    }
   ],
   "source": [
    "h2 = BaseChart.from_dict(\n",
    "    {\n",
    "        \"name\": \"test\",\n",
    "        \"x_column\": \"sepal length\",\n",
    "        \"y_column\": \"\",\n",
    "        \"title\": \"test\",\n",
    "        \"id\": \"43e520c049334b52a5c4aa47f2165de7\",\n",
    "        \"chart_type\": \"histogram\",\n",
    "        \"color\": \"class\",\n",
    "        \"bins\": 10,\n",
    "    },\n",
    "    df,\n",
    ")\n",
    "h2"
   ]
  }
 ],
 "metadata": {
  "kernelspec": {
   "display_name": ".venv",
   "language": "python",
   "name": "python3"
  },
  "language_info": {
   "codemirror_mode": {
    "name": "ipython",
    "version": 3
   },
   "file_extension": ".py",
   "mimetype": "text/x-python",
   "name": "python",
   "nbconvert_exporter": "python",
   "pygments_lexer": "ipython3",
   "version": "3.12.9"
  }
 },
 "nbformat": 4,
 "nbformat_minor": 2
}
